{
 "cells": [
  {
   "cell_type": "markdown",
   "metadata": {},
   "source": [
    "# Introduction to qsoverlay\n",
    "\n",
    "This notebook introduces the quantumsim_overlay (qsoverlay) package, and demonstrates how to use it on a simple Bell state preparation example.\n",
    "\n",
    "Qsoverlay is a package to remove some of the overhead needed in parametrizing a circuit for a simulation with noise. In particular, it keeps track of the time and error parameters in a circuit, which otherwise need to be done by the user.\n",
    "\n",
    "Qsoverlay consists of two parts - the circuit_builder, which creates quantumsim circuits, and a set of setup files which dictate how gates look in a given experimental model. "
   ]
  },
  {
   "cell_type": "code",
   "execution_count": 1,
   "metadata": {},
   "outputs": [],
   "source": [
    "import numpy as np"
   ]
  },
  {
   "cell_type": "markdown",
   "metadata": {},
   "source": [
    "Before we start making a circuit, we need to define the (simulated) hardware that we will work on. The hardware needs some qubits and gates (there are a few more optional pieces you can add depending on how realistic you want to get). The qubits themselves need labels, and the rest of the defining is done using a setup file, which is specific to whatever physical implementation you want to simulate. \n",
    "\n",
    "We're going to simulate our experiment on models of the transmon qubits in DiCarloLab, so we use DiCarlo_setup. This has a quick_setup function that should be sufficient for any simulation where we want symmetric qubits."
   ]
  },
  {
   "cell_type": "code",
   "execution_count": 2,
   "metadata": {},
   "outputs": [],
   "source": [
    "from qsoverlay import DiCarlo_setup\n",
    "qubit_list = ['swap','cp']\n",
    "setup = DiCarlo_setup.quick_setup(qubit_list)"
   ]
  },
  {
   "cell_type": "markdown",
   "metadata": {},
   "source": [
    "The setup here contains a few things. Importantly for us right now it contains a dictionary of allowed gates with some parameters (e.g. the length of the gate), and for each of the qubits that we've specified, a dictionary of qubit parameters - things such as T1, T2, etc."
   ]
  },
  {
   "cell_type": "code",
   "execution_count": 3,
   "metadata": {},
   "outputs": [
    {
     "name": "stdout",
     "output_type": "stream",
     "text": [
      "dict_keys(['cp', 'swap'])\n",
      "dict_keys(['Reset', 'H', 'ISwapRotation', 'Rx', 'C-Phase', 'RotateZ', 'RY', 'RZ', 'ResetGate', 'Ry', 'Had', 'Measure', 'Rz', 'CPhase', 'RotateX', 'CZ', 'ISwap', 'RX', 'CNOT', 'RotateY'])\n"
     ]
    }
   ],
   "source": [
    "print(setup['qubit_dic'].keys())\n",
    "\n",
    "# Note that some gates can have multiple handles - RotateX and RX\n",
    "# have the exact same function here.\n",
    "print(setup['gate_dic'].keys())"
   ]
  },
  {
   "cell_type": "markdown",
   "metadata": {},
   "source": [
    "Circuits are made through a builder, which takes care of everything except for defining the gates."
   ]
  },
  {
   "cell_type": "code",
   "execution_count": 4,
   "metadata": {},
   "outputs": [],
   "source": [
    "from qsoverlay.circuit_builder import Builder\n",
    "\n",
    "# Make the builder with the chosen setup.\n",
    "b = Builder(**setup)\n",
    "\n",
    "# Create the circuit\n",
    "b.add_gate('RotateY',['swap'],angle=np.pi/2)\n",
    "b.add_gate('RotateY',['cp'],angle=np.pi/2)\n",
    "b.add_gate('CZ',['cp','swap'])\n",
    "b.add_gate('RotateY',['cp'],angle=-np.pi/2)\n",
    "\n",
    "# Get the quantumsim circuit after waiting gates are added.\n",
    "b.finalize()\n",
    "bell_circuit = b.circuit"
   ]
  },
  {
   "cell_type": "markdown",
   "metadata": {},
   "source": [
    "The circuit is now a regular quantumsim circuit which can be plotted"
   ]
  },
  {
   "cell_type": "code",
   "execution_count": 5,
   "metadata": {},
   "outputs": [
    {
     "data": {
      "text/plain": [
       "(<matplotlib.figure.Figure at 0x7f191cdbd8d0>,\n",
       " <matplotlib.axes._subplots.AxesSubplot at 0x7f191ad7e4a8>)"
      ]
     },
     "execution_count": 5,
     "metadata": {},
     "output_type": "execute_result"
    },
    {
     "data": {
      "image/png": "[encoded data removed]",
      "text/plain": [
       "<matplotlib.figure.Figure at 0x7f191cdbd8d0>"
      ]
     },
     "metadata": {},
     "output_type": "display_data"
    }
   ],
   "source": [
    "%matplotlib inline\n",
    "bell_circuit.plot()"
   ]
  },
  {
   "cell_type": "markdown",
   "metadata": {},
   "source": [
    "And applied to a SDM"
   ]
  },
  {
   "cell_type": "code",
   "execution_count": 6,
   "metadata": {},
   "outputs": [],
   "source": [
    "from quantumsim.sparsedm import SparseDM\n",
    "bell_state = SparseDM(bell_circuit.get_qubit_names())\n",
    "bell_circuit.apply_to(bell_state)"
   ]
  },
  {
   "cell_type": "code",
   "execution_count": 7,
   "metadata": {},
   "outputs": [
    {
     "data": {
      "text/plain": [
       "[({'cp': 0, 'swap': 0}, 0.4997517951504599),\n",
       " ({'cp': 1, 'swap': 0}, 0.001413511463122148),\n",
       " ({'cp': 0, 'swap': 1}, 0.0011109352511989364),\n",
       " ({'cp': 1, 'swap': 1}, 0.49772375813522257)]"
      ]
     },
     "execution_count": 7,
     "metadata": {},
     "output_type": "execute_result"
    }
   ],
   "source": [
    "bell_state.peak_multiple_measurements(['cp','swap'])"
   ]
  },
  {
   "cell_type": "markdown",
   "metadata": {},
   "source": [
    "And the full density matrix can be obtained"
   ]
  },
  {
   "cell_type": "code",
   "execution_count": 8,
   "metadata": {},
   "outputs": [
    {
     "data": {
      "text/plain": [
       "array([[ 0.5  +0.j, -0.001+0.j,  0.   +0.j, -0.497+0.j],\n",
       "       [-0.001+0.j,  0.001+0.j, -0.   +0.j,  0.   +0.j],\n",
       "       [ 0.   +0.j, -0.   +0.j,  0.001+0.j, -0.   +0.j],\n",
       "       [-0.497+0.j,  0.   +0.j, -0.   +0.j,  0.498+0.j]])"
      ]
     },
     "execution_count": 8,
     "metadata": {},
     "output_type": "execute_result"
    }
   ],
   "source": [
    "bell_state.full_dm.to_array().round(3)"
   ]
  },
  {
   "cell_type": "markdown",
   "metadata": {},
   "source": [
    "In addition to the above, there is one nice addition to qsoverlay: the ability to save and reload circuits with minimal overhead. The representation of our previous circuit can be found in the 'circuit_list' of our builder"
   ]
  },
  {
   "cell_type": "code",
   "execution_count": 9,
   "metadata": {},
   "outputs": [
    {
     "name": "stdout",
     "output_type": "stream",
     "text": [
      "[('RotateY', 'swap', 1.5707963267948966), ('RotateY', 'cp', 1.5707963267948966), ('CZ', 'cp', 'swap'), ('RotateY', 'cp', -1.5707963267948966)]\n"
     ]
    }
   ],
   "source": [
    "circuit_list = b.circuit_list\n",
    "print(circuit_list)"
   ]
  },
  {
   "cell_type": "markdown",
   "metadata": {},
   "source": [
    "This can be immediately re-inserted into a new builder. Here, we're going to do this with the noise flag off, meaning that our qubits are treated as perfect"
   ]
  },
  {
   "cell_type": "code",
   "execution_count": 10,
   "metadata": {},
   "outputs": [
    {
     "data": {
      "image/png": "[encoded data removed]",
      "text/plain": [
       "<matplotlib.figure.Figure at 0x7f191acd9470>"
      ]
     },
     "metadata": {},
     "output_type": "display_data"
    }
   ],
   "source": [
    "setup = DiCarlo_setup.quick_setup(qubit_list)\n",
    "b2 = Builder(**setup)\n",
    "\n",
    "# Replacing the entire input for the circuit\n",
    "b2.add_circuit_list(circuit_list)\n",
    "\n",
    "# Get circuit and apply to state\n",
    "b2.finalize()\n",
    "new_bell_circuit = b2.circuit\n",
    "new_bell_circuit.plot()\n",
    "new_bell_state = SparseDM(new_bell_circuit.get_qubit_names())\n",
    "new_bell_circuit.apply_to(new_bell_state)"
   ]
  },
  {
   "cell_type": "markdown",
   "metadata": {},
   "source": [
    "To check that these are the same, compare the density matrices from the two"
   ]
  },
  {
   "cell_type": "code",
   "execution_count": 11,
   "metadata": {},
   "outputs": [
    {
     "name": "stdout",
     "output_type": "stream",
     "text": [
      "0.0\n"
     ]
    }
   ],
   "source": [
    "print(np.linalg.norm(new_bell_state.full_dm.to_array()-bell_state.full_dm.to_array()))"
   ]
  },
  {
   "cell_type": "markdown",
   "metadata": {},
   "source": [
    "We can also recreate the same circuit with different parameters. Let's try a new simulation with qubits that have a T1 and T2 of 1us instead of 30us (the standard), and compare this to a perfect circuit (to see the bell state fidelity)"
   ]
  },
  {
   "cell_type": "code",
   "execution_count": 12,
   "metadata": {},
   "outputs": [
    {
     "ename": "TypeError",
     "evalue": "bad operand type for unary +: 'str'",
     "output_type": "error",
     "traceback": [
      "\u001b[0;31m---------------------------------------------------------------------------\u001b[0m",
      "\u001b[0;31mTypeError\u001b[0m                                 Traceback (most recent call last)",
      "\u001b[0;32m<ipython-input-12-b823d59bef47>\u001b[0m in \u001b[0;36m<module>\u001b[0;34m()\u001b[0m\n\u001b[1;32m      1\u001b[0m \u001b[0;31m# T1 is changed from the default in the setup; all times are given in nanoseconds\u001b[0m\u001b[0;34m\u001b[0m\u001b[0;34m\u001b[0m\u001b[0m\n\u001b[0;32m----> 2\u001b[0;31m \u001b[0msetup_perfect\u001b[0m \u001b[0;34m=\u001b[0m \u001b[0mDiCarlo_setup\u001b[0m\u001b[0;34m.\u001b[0m\u001b[0mquick_setup\u001b[0m\u001b[0;34m(\u001b[0m\u001b[0mqubit_list\u001b[0m\u001b[0;34m,\u001b[0m \u001b[0mnoise_flag\u001b[0m\u001b[0;34m=\u001b[0m\u001b[0;32mFalse\u001b[0m\u001b[0;34m)\u001b[0m\u001b[0;34m\u001b[0m\u001b[0m\n\u001b[0m\u001b[1;32m      3\u001b[0m \u001b[0msetup_noisy\u001b[0m \u001b[0;34m=\u001b[0m \u001b[0mDiCarlo_setup\u001b[0m\u001b[0;34m.\u001b[0m\u001b[0mquick_setup\u001b[0m\u001b[0;34m(\u001b[0m\u001b[0mqubit_list\u001b[0m\u001b[0;34m,\u001b[0m \u001b[0mt1\u001b[0m\u001b[0;34m=\u001b[0m\u001b[0;36m1000\u001b[0m\u001b[0;34m,\u001b[0m \u001b[0mt2\u001b[0m\u001b[0;34m=\u001b[0m\u001b[0;36m1000\u001b[0m\u001b[0;34m)\u001b[0m\u001b[0;34m\u001b[0m\u001b[0m\n\u001b[1;32m      4\u001b[0m \u001b[0;34m\u001b[0m\u001b[0m\n\u001b[1;32m      5\u001b[0m \u001b[0mb_perfect\u001b[0m \u001b[0;34m=\u001b[0m \u001b[0mBuilder\u001b[0m\u001b[0;34m(\u001b[0m\u001b[0;34m**\u001b[0m\u001b[0msetup_perfect\u001b[0m\u001b[0;34m)\u001b[0m\u001b[0;34m\u001b[0m\u001b[0m\n",
      "\u001b[0;32m~/Dropbox/Work/general_purpose_code/qsoverlay/qsoverlay/DiCarlo_setup.py\u001b[0m in \u001b[0;36mquick_setup\u001b[0;34m(qubit_list, **kwargs)\u001b[0m\n\u001b[1;32m     24\u001b[0m         \u001b[0;34m'update_rules'\u001b[0m\u001b[0;34m:\u001b[0m \u001b[0mget_update_rules\u001b[0m\u001b[0;34m(\u001b[0m\u001b[0;34m**\u001b[0m\u001b[0mkwargs\u001b[0m\u001b[0;34m)\u001b[0m\u001b[0;34m,\u001b[0m\u001b[0;34m\u001b[0m\u001b[0m\n\u001b[1;32m     25\u001b[0m         'qubit_dic': {\n\u001b[0;32m---> 26\u001b[0;31m             \u001b[0mq\u001b[0m\u001b[0;34m:\u001b[0m \u001b[0mget_qubit\u001b[0m\u001b[0;34m(\u001b[0m\u001b[0;34m**\u001b[0m\u001b[0mkwargs\u001b[0m\u001b[0;34m)\u001b[0m \u001b[0;32mfor\u001b[0m \u001b[0mq\u001b[0m \u001b[0;32min\u001b[0m \u001b[0mqubit_list\u001b[0m\u001b[0;34m\u001b[0m\u001b[0m\n\u001b[0m\u001b[1;32m     27\u001b[0m         }\n\u001b[1;32m     28\u001b[0m     }\n",
      "\u001b[0;32m~/Dropbox/Work/general_purpose_code/qsoverlay/qsoverlay/DiCarlo_setup.py\u001b[0m in \u001b[0;36m<dictcomp>\u001b[0;34m(.0)\u001b[0m\n\u001b[1;32m     24\u001b[0m         \u001b[0;34m'update_rules'\u001b[0m\u001b[0;34m:\u001b[0m \u001b[0mget_update_rules\u001b[0m\u001b[0;34m(\u001b[0m\u001b[0;34m**\u001b[0m\u001b[0mkwargs\u001b[0m\u001b[0;34m)\u001b[0m\u001b[0;34m,\u001b[0m\u001b[0;34m\u001b[0m\u001b[0m\n\u001b[1;32m     25\u001b[0m         'qubit_dic': {\n\u001b[0;32m---> 26\u001b[0;31m             \u001b[0mq\u001b[0m\u001b[0;34m:\u001b[0m \u001b[0mget_qubit\u001b[0m\u001b[0;34m(\u001b[0m\u001b[0;34m**\u001b[0m\u001b[0mkwargs\u001b[0m\u001b[0;34m)\u001b[0m \u001b[0;32mfor\u001b[0m \u001b[0mq\u001b[0m \u001b[0;32min\u001b[0m \u001b[0mqubit_list\u001b[0m\u001b[0;34m\u001b[0m\u001b[0m\n\u001b[0m\u001b[1;32m     27\u001b[0m         }\n\u001b[1;32m     28\u001b[0m     }\n",
      "\u001b[0;32m~/Dropbox/Work/general_purpose_code/qsoverlay/qsoverlay/DiCarlo_setup.py\u001b[0m in \u001b[0;36mget_qubit\u001b[0;34m(noise_flag, t1, t2, dephasing_axis, dephasing_angle, dephasing, p_exc_init, p_dec_init, p_exc_fin, p_dec_fin, photons, alpha0, kappa, chi, static_flux_std, high_frequency, dephase_var, msmt_time, interval_time, oneq_gate_time, CZ_gate_time, reset_time, sampler, seed, readout_error, **kwargs)\u001b[0m\n\u001b[1;32m    162\u001b[0m             \u001b[0;34m'photons'\u001b[0m\u001b[0;34m:\u001b[0m \u001b[0;32mFalse\u001b[0m\u001b[0;34m,\u001b[0m\u001b[0;34m\u001b[0m\u001b[0m\n\u001b[1;32m    163\u001b[0m             \u001b[0;34m'quasistatic_flux'\u001b[0m\u001b[0;34m:\u001b[0m \u001b[0;32mNone\u001b[0m\u001b[0;34m,\u001b[0m\u001b[0;34m+\u001b[0m\u001b[0;34m+\u001b[0m\u001b[0;34m\u001b[0m\u001b[0m\n\u001b[0;32m--> 164\u001b[0;31m             \u001b[0;34m'high_frequency'\u001b[0m\u001b[0;34m:\u001b[0m \u001b[0;32mFalse\u001b[0m\u001b[0;34m,\u001b[0m\u001b[0;34m\u001b[0m\u001b[0m\n\u001b[0m\u001b[1;32m    165\u001b[0m             \u001b[0;34m'sampler'\u001b[0m\u001b[0;34m:\u001b[0m \u001b[0msampler\u001b[0m\u001b[0;34m\u001b[0m\u001b[0m\n\u001b[1;32m    166\u001b[0m         }\n",
      "\u001b[0;31mTypeError\u001b[0m: bad operand type for unary +: 'str'"
     ]
    }
   ],
   "source": [
    "# T1 is changed from the default in the setup; all times are given in nanoseconds\n",
    "setup_perfect = DiCarlo_setup.quick_setup(qubit_list, noise_flag=False)\n",
    "setup_noisy = DiCarlo_setup.quick_setup(qubit_list, t1=1000, t2=1000)\n",
    "\n",
    "b_perfect = Builder(**setup_perfect)\n",
    "b_noisy = Builder(**setup_noisy)\n",
    "\n",
    "# Replacing the entire input for the circuit\n",
    "b_perfect.add_circuit_list(circuit_list)\n",
    "b_noisy.add_circuit_list(circuit_list)\n",
    "\n",
    "# Get circuit and apply to state\n",
    "b_perfect.finalize()\n",
    "b_noisy.finalize()\n",
    "worse_bell_circuit = b_noisy.circuit\n",
    "worse_bell_state = SparseDM(worse_bell_circuit.get_qubit_names())\n",
    "worse_bell_circuit.apply_to(worse_bell_state)\n",
    "perfect_bell_circuit = b_perfect.circuit\n",
    "perfect_bell_state = SparseDM(perfect_bell_circuit.get_qubit_names())\n",
    "perfect_bell_circuit.apply_to(perfect_bell_state)"
   ]
  },
  {
   "cell_type": "code",
   "execution_count": null,
   "metadata": {},
   "outputs": [],
   "source": [
    "#fidelity hack taken from the quantumsim tutorial\n",
    "import quantumsim\n",
    "if quantumsim.sparsedm.using_gpu == False:\n",
    "    print(\"Bell state fidelity: \", np.dot(worse_bell_state.full_dm.dm.ravel(), perfect_bell_state.full_dm.dm.ravel()))"
   ]
  },
  {
   "cell_type": "code",
   "execution_count": null,
   "metadata": {},
   "outputs": [],
   "source": []
  }
 ],
 "metadata": {
  "kernelspec": {
   "display_name": "Python 3",
   "language": "python",
   "name": "python3"
  },
  "language_info": {
   "codemirror_mode": {
    "name": "ipython",
    "version": 3
   },
   "file_extension": ".py",
   "mimetype": "text/x-python",
   "name": "python",
   "nbconvert_exporter": "python",
   "pygments_lexer": "ipython3",
   "version": "3.5.2"
  }
 },
 "nbformat": 4,
 "nbformat_minor": 1
}
