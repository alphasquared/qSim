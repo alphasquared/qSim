{
 "cells": [
  {
   "cell_type": "markdown",
   "metadata": {},
   "source": [
    "# Introduction to Quantumsim"
   ]
  },
  {
   "cell_type": "code",
   "execution_count": 1,
   "metadata": {},
   "outputs": [],
   "source": [
    "import quantumsim\n",
    "import numpy as np\n",
    "import matplotlib.pyplot as plt\n",
    "%matplotlib inline"
   ]
  },
  {
   "cell_type": "markdown",
   "metadata": {},
   "source": [
    "## Goal of `quantumsim`\n",
    "  - Simulate the result of running quantum circuits on experimental imperfect hardware\n",
    "  - Description should be compatible with descriptions used by experimentalists\n",
    "  - Fast enough for investigating quantum error correction on Surface-17"
   ]
  },
  {
   "cell_type": "markdown",
   "metadata": {},
   "source": [
    "## What `quantumsim` does\n",
    "\n",
    "  - Calculate the density matrix of a composite quantum system (qubits) after applying local (1 and 2 qubit) processes\n",
    "  - Processes are described by process matrices\n",
    "    - from models with experimental parameters (e.g. $T_1, T_2$ amplitude-phase damping)\n",
    "    - integrating master equations (not part of *quantumsim*, but there is *qutip*)\n",
    "    - from experiment directly (process tomography)\n",
    "  - Measurements: Allow also probabilistic projections, e. g. measurements. Then obtain conditional density matrix.\n",
    "  \n",
    "  - The calculations are performed on a GPU\n",
    "  - Python 3\n",
    "  - Open source (GPL), get on https://gitlab.com/quantumsim/quantumsim"
   ]
  },
  {
   "cell_type": "markdown",
   "metadata": {},
   "source": [
    "## Status of `quantumsim`\n",
    "\n",
    "  - \"Old quantumsim\" (master branch)\n",
    "    - Quite stable, used by several people and in a handful of publications.\n",
    "    - Achieved the goal: \"Density-matrix simulation of small surface codes under current and projected experimental noise\" (npj Quant. Inf. 3, 39 (2017))\n",
    "    - Inflexible internal representation: Restricted to qubits as subsystems and a fixed *Pauli basis*.\n",
    "  - \"New quantumsim\"\n",
    "    - Wanted to include leakage (non-computational states)\n",
    "    - Almost completely rewritten for flexible internal representation\n",
    "    - Slightly slower on GPU (about 50% - 75%)\n",
    "    - New optimization: automated basis choice\n",
    "    - But: Frontend not finished, essentially only usable by the author\n",
    "  \n",
    "Focus on \"old quantumsim\". I'll point out the differences."
   ]
  },
  {
   "cell_type": "markdown",
   "metadata": {},
   "source": [
    "## Parts of `quantumsim`\n",
    "\n",
    "### 1. A library of process matrices (aka Pauli transfer matrices)"
   ]
  },
  {
   "cell_type": "code",
   "execution_count": 2,
   "metadata": {},
   "outputs": [],
   "source": [
    "import quantumsim.ptm as ptm"
   ]
  },
  {
   "cell_type": "markdown",
   "metadata": {},
   "source": [
    "### 2. Two density matrix backends\n",
    "  - `dm10` running on Nvidia GPU, written in CUDA C (https://developer.nvidia.com/cuda-zone) \n",
    "  - `dm_np` with `numpy`."
   ]
  },
  {
   "cell_type": "code",
   "execution_count": 3,
   "metadata": {},
   "outputs": [],
   "source": [
    "# usually you do not need this, use quantumsim.sparse_dm\n",
    "\n",
    "# my laptop has no Nvidia GPU :(\n",
    "import quantumsim.dm_np as dm "
   ]
  },
  {
   "cell_type": "markdown",
   "metadata": {},
   "source": [
    "### 3. A wrapper for the backends\n",
    "\n",
    "`sparsedm` gives a more usable interface to the backend, for instance\n",
    "  - keeps track of qubits in classical states (no need to represent in density matrix)\n",
    "  - Manages a mapping between qubit names and indices in density matrix\n",
    "  - When you load `sparse_dm` it selects the GPU backend if available, otherwise uses `numpy` backend\n",
    "  \n",
    "The first big player: The `sparse_dm.SparseDM` object. \n",
    "\n",
    "It represents the quantum state of a system, processes can be applied to it, and the density matrix (or parts) can be extracted."
   ]
  },
  {
   "cell_type": "code",
   "execution_count": 4,
   "metadata": {},
   "outputs": [],
   "source": [
    "import quantumsim.sparsedm as sparsedm"
   ]
  },
  {
   "cell_type": "code",
   "execution_count": 5,
   "metadata": {},
   "outputs": [
    {
     "data": {
      "text/plain": [
       "False"
      ]
     },
     "execution_count": 5,
     "metadata": {},
     "output_type": "execute_result"
    }
   ],
   "source": [
    "sparsedm.using_gpu"
   ]
  },
  {
   "cell_type": "markdown",
   "metadata": {},
   "source": [
    "### 4. A helper to collect and sort process matrices\n",
    "\n",
    "`circuit` module makes it easy to build a circuit (and plot it before running).\n",
    "Essentially, it just maintains a list of process matrices.\n",
    "\n",
    "  - Automatic insertion of idling gates\n",
    "  - Contains certain optimization routines that are very useful for large systems (Surface-17)\n",
    "  \n",
    "The second big player: The `circuit.Circuit` object and the `circuit.Gate` objects."
   ]
  },
  {
   "cell_type": "code",
   "execution_count": 6,
   "metadata": {},
   "outputs": [],
   "source": [
    "import quantumsim.circuit as circuit"
   ]
  },
  {
   "cell_type": "markdown",
   "metadata": {},
   "source": [
    "## Math"
   ]
  },
  {
   "cell_type": "markdown",
   "metadata": {},
   "source": [
    "### Density matrix\n",
    "\n",
    "A quantum system is described by a density matrix\n",
    "\n",
    "$$ \\rho_{x, x'}$$ \n",
    "\n",
    "$x$ and $x'$ go over all states of the system.\n",
    "\n",
    "When the system consists of subsystems, each state is described by a multiindex, e.g. for two qubits:\n",
    "\n",
    "$$ \\rho_{xy, x'y'} $$\n",
    "\n",
    "$x, y, x', y'$ are 0 or 1.\n",
    "\n",
    "\n",
    "The density matrix is complex and Hermitian. A $n \\times n$ density matrix thus has $n^2$ *real* degrees of freedom.\n"
   ]
  },
  {
   "cell_type": "markdown",
   "metadata": {},
   "source": [
    "### Pauli vectors\n",
    "\n",
    "Every density matrix for qubits can be expanded in the Pauli basis:\n",
    "\n",
    "$$ \\rho_{xy, x'y'} = \\sum_{a, b} P_{ab} \\sigma_{xx'}^{(a)} \\otimes \\sigma_{yy'}^{(b)}$$\n",
    "\n",
    "Backwards formula:\n",
    "\n",
    "$$ P_{ab} = \\mathrm{Tr} \\left( \\rho (\\sigma^{(a)} \\otimes \\sigma^{(b)})\\right)$$\n",
    "\n",
    "$a$ and $b$ are $0, x, y, z$. \n",
    "\n",
    "The numbers $P_{ab}$ with one multi-index are called the Pauli vector.\n",
    "(The density *matrix* has two multi-indices)\n",
    "\n",
    "The backwards formula requires orthonormality:\n",
    "$$ \\mathrm{Tr} (\\sigma^{(a)} \\sigma^{(b)}) = \\delta_{ab}$$\n",
    "\n",
    "This is *not* true for the usual Pauli matrices, they have to be normalized (divide by $\\sqrt{2}$)."
   ]
  },
  {
   "cell_type": "markdown",
   "metadata": {},
   "source": [
    "### Another basis\n",
    "\n",
    "Instead of using the normal Pauli matrices, quantumsim uses a slightly different basis:\n",
    "\n",
    "$\\sigma^{(0)} = \\begin{pmatrix} 1 & 0 \\\\ 0 & 0\\end{pmatrix}$\n",
    "\n",
    "$\\sigma^{(x)} = \\frac{1}{\\sqrt{2}} \\begin{pmatrix} 0 & 1 \\\\ 1 & 0\\end{pmatrix}$\n",
    "\n",
    "$\\sigma^{(y)} = \\frac{1}{\\sqrt{2}} \\begin{pmatrix} 0 & -i \\\\ i & 0\\end{pmatrix}$\n",
    "\n",
    "$\\sigma^{(1)} = \\begin{pmatrix} 0 & 0 \\\\ 0 & 1\\end{pmatrix}$,\n",
    "\n",
    "$a, b$ then are $0, x, y, 1$.\n",
    "\n",
    "This basis is also orthonormal. It has the advantage that the distribution of measurement outcomes - diagonal of the density matrix - can be extracted easier.\n",
    "\n",
    "\"Old quantumsim\" always uses this basis. The major development of \"new quantumsim\" is that the basis can be chosen arbitrary:\n",
    "  - any dimension (for instance the nine Gell-Mann matrices for qutrits),\n",
    "  - different for different subsystems (some qubits, some qutrits),\n",
    "  - can even be incomplete, if that is enough to describe the system"
   ]
  },
  {
   "cell_type": "markdown",
   "metadata": {},
   "source": [
    "### Processes\n",
    "\n",
    "Processes on density matrices are described by linear \"superoperators\".\n",
    "\n",
    "Since we demoted matrices $\\rho_{xy, x'y'}$ to vectors $P_{ab}$, processes are then just matrices. Quantumsim supports one- (4x4) and two-qubit (16x16) processes.\n",
    "\n",
    "Let's look at a few in the `ptm` module."
   ]
  },
  {
   "cell_type": "code",
   "execution_count": 7,
   "metadata": {},
   "outputs": [
    {
     "name": "stdout",
     "output_type": "stream",
     "text": [
      "[[ 0.5    0.     0.707  0.5  ]\n",
      " [ 0.     1.     0.     0.   ]\n",
      " [-0.707  0.     0.     0.707]\n",
      " [ 0.5    0.    -0.707  0.5  ]]\n"
     ]
    }
   ],
   "source": [
    "X90 = ptm.rotate_x_ptm(angle=np.pi/2)\n",
    "\n",
    "print(X90.round(3))"
   ]
  },
  {
   "cell_type": "code",
   "execution_count": 8,
   "metadata": {},
   "outputs": [
    {
     "name": "stdout",
     "output_type": "stream",
     "text": [
      "[[1.    0.    0.    0.01 ]\n",
      " [0.    0.995 0.    0.   ]\n",
      " [0.    0.    0.995 0.   ]\n",
      " [0.    0.    0.    0.99 ]]\n"
     ]
    }
   ],
   "source": [
    "# See Nielsen-Chuang. \n",
    "# gamma is the decay probability, γ = 1-exp(-t/T1),\n",
    "# lamda characterizes phase damping, λ = 1-exp(-t/Tφ)\n",
    "\n",
    "decay = ptm.amp_ph_damping_ptm(gamma=0.01, lamda=0.0)\n",
    "\n",
    "print(decay.round(3))"
   ]
  },
  {
   "cell_type": "code",
   "execution_count": 9,
   "metadata": {},
   "outputs": [],
   "source": [
    "# You can build your own PTMs from Kraus operators. \n",
    "# For instance, a phase flip with 10% probability:\n",
    "\n",
    "p = 0.1\n",
    "\n",
    "kraus_phase_flip = np.sqrt(p) * np.c_[[1, 0], [0, -1]]\n",
    "kraus_no_phase_flip = np.sqrt(1-p) * np.c_[[1, 0], [0, 1]]"
   ]
  },
  {
   "cell_type": "code",
   "execution_count": 10,
   "metadata": {},
   "outputs": [],
   "source": [
    "phase_flip_ptm = ptm.single_kraus_to_ptm(kraus_phase_flip) + \\\n",
    "                 ptm.single_kraus_to_ptm(kraus_no_phase_flip)"
   ]
  },
  {
   "cell_type": "code",
   "execution_count": 11,
   "metadata": {},
   "outputs": [
    {
     "name": "stdout",
     "output_type": "stream",
     "text": [
      "[[1.  0.  0.  0. ]\n",
      " [0.  0.8 0.  0. ]\n",
      " [0.  0.  0.8 0. ]\n",
      " [0.  0.  0.  1. ]]\n"
     ]
    }
   ],
   "source": [
    "print(phase_flip_ptm)"
   ]
  },
  {
   "cell_type": "code",
   "execution_count": 12,
   "metadata": {},
   "outputs": [
    {
     "name": "stdout",
     "output_type": "stream",
     "text": [
      "[[1.00000000e+00 0.00000000e+00 0.00000000e+00 4.26642159e-17]\n",
      " [0.00000000e+00 8.00000000e-01 0.00000000e+00 0.00000000e+00]\n",
      " [0.00000000e+00 0.00000000e+00 8.00000000e-01 0.00000000e+00]\n",
      " [4.26642159e-17 0.00000000e+00 0.00000000e+00 1.00000000e+00]]\n"
     ]
    }
   ],
   "source": [
    "# This is of course a special case of phase damping:\n",
    "# (See nielson and chuang p. 385)\n",
    "phase_flip_ptm2 = ptm.amp_ph_damping_ptm(gamma=0.0, lamda=1-(1-2*p)**2)\n",
    "print(phase_flip_ptm2)"
   ]
  },
  {
   "cell_type": "markdown",
   "metadata": {},
   "source": [
    "### Example: Excite a qubit"
   ]
  },
  {
   "cell_type": "markdown",
   "metadata": {},
   "source": [
    "Adriaan has a system with two qubits. He tries to excite one qubit to the 1 state using two perfect X90 gates, but has some decay inbetween and after."
   ]
  },
  {
   "cell_type": "code",
   "execution_count": 13,
   "metadata": {},
   "outputs": [],
   "source": [
    "# initialize a system with two qubits, named \"QL\" and \"QR\"\n",
    "\n",
    "state = sparsedm.SparseDM([\"QL\", \"QR\"])"
   ]
  },
  {
   "cell_type": "code",
   "execution_count": 14,
   "metadata": {},
   "outputs": [
    {
     "data": {
      "text/plain": [
       "[({'QL': 0, 'QR': 0}, 1.0)]"
      ]
     },
     "execution_count": 14,
     "metadata": {},
     "output_type": "execute_result"
    }
   ],
   "source": [
    "# newly created systems are initialized in the ground state\n",
    "\n",
    "# this very useful function extracts the measurement outcome distribution\n",
    "state.peak_multiple_measurements(bits=[\"QL\", \"QR\"])"
   ]
  },
  {
   "cell_type": "code",
   "execution_count": 15,
   "metadata": {},
   "outputs": [],
   "source": [
    "# Adriaan does his thing:\n",
    "\n",
    "state.apply_ptm(\"QL\", decay)\n",
    "state.apply_ptm(\"QR\", decay)\n",
    "\n",
    "state.apply_ptm(\"QL\", X90)\n",
    "\n",
    "state.apply_ptm(\"QL\", decay)\n",
    "state.apply_ptm(\"QR\", decay)\n",
    "\n",
    "state.apply_ptm(\"QL\", X90)\n",
    "\n",
    "state.apply_ptm(\"QL\", decay)\n",
    "state.apply_ptm(\"QR\", decay)\n"
   ]
  },
  {
   "cell_type": "code",
   "execution_count": 16,
   "metadata": {},
   "outputs": [
    {
     "data": {
      "text/plain": [
       "[({'QL': 0, 'QR': 0}, 0.012481218632223495),\n",
       " ({'QL': 1, 'QR': 0}, 0.9875187813677782),\n",
       " ({'QL': 0, 'QR': 1}, 1.5815824266860643e-18),\n",
       " ({'QL': 1, 'QR': 1}, 1.2513540517601507e-16)]"
      ]
     },
     "execution_count": 16,
     "metadata": {},
     "output_type": "execute_result"
    }
   ],
   "source": [
    "state.peak_multiple_measurements(bits=[\"QL\", \"QR\"])"
   ]
  },
  {
   "cell_type": "markdown",
   "metadata": {},
   "source": [
    "We can get the full density matrix:"
   ]
  },
  {
   "cell_type": "code",
   "execution_count": 17,
   "metadata": {},
   "outputs": [
    {
     "name": "stdout",
     "output_type": "stream",
     "text": [
      "[[0.012+0.j    0.   +0.005j 0.   +0.j    0.   +0.j   ]\n",
      " [0.   -0.005j 0.988+0.j    0.   +0.j    0.   +0.j   ]\n",
      " [0.   +0.j    0.   +0.j    0.   +0.j    0.   +0.j   ]\n",
      " [0.   +0.j    0.   +0.j    0.   -0.j    0.   +0.j   ]]\n"
     ]
    }
   ],
   "source": [
    "rho = state.full_dm.to_array()\n",
    "print(rho.round(3))"
   ]
  },
  {
   "cell_type": "markdown",
   "metadata": {},
   "source": [
    "The qubit are mapping is accessible here (0 is least-significant):"
   ]
  },
  {
   "cell_type": "code",
   "execution_count": 18,
   "metadata": {},
   "outputs": [
    {
     "data": {
      "text/plain": [
       "{'QL': 0, 'QR': 1}"
      ]
     },
     "execution_count": 18,
     "metadata": {},
     "output_type": "execute_result"
    }
   ],
   "source": [
    "state.idx_in_full_dm"
   ]
  },
  {
   "cell_type": "markdown",
   "metadata": {},
   "source": [
    "## A closer look at `sparsedm`"
   ]
  },
  {
   "cell_type": "markdown",
   "metadata": {},
   "source": [
    "Let's have a closer look at:\n",
    "\n",
    "#### Classical qubits\n",
    "\n",
    " - Qubits that are in a definite state (0 or 1) and not entangled with the rest of the system are called 'classical'\n",
    " - Classical qubits are not represented in the density matrix\n",
    " \n",
    "#### PTM compilation\n",
    "\n",
    " - PTM's are not applied immediately\n",
    " - This way, when several consecutive PTM's are applied to the same qubit, they can be combined to one before applying\n",
    " - Reduces number of operations on the large Pauli vector"
   ]
  },
  {
   "cell_type": "code",
   "execution_count": 19,
   "metadata": {},
   "outputs": [],
   "source": [
    "# In the beginning, all qubits are in the ground state, thus classical\n",
    "state = sparsedm.SparseDM([\"QL\", \"QR\"])"
   ]
  },
  {
   "cell_type": "code",
   "execution_count": 20,
   "metadata": {},
   "outputs": [
    {
     "data": {
      "text/plain": [
       "{'QL': 0, 'QR': 0}"
      ]
     },
     "execution_count": 20,
     "metadata": {},
     "output_type": "execute_result"
    }
   ],
   "source": [
    "# both qubits have classical state 0\n",
    "state.classical"
   ]
  },
  {
   "cell_type": "code",
   "execution_count": 21,
   "metadata": {},
   "outputs": [
    {
     "data": {
      "text/plain": [
       "{}"
      ]
     },
     "execution_count": 21,
     "metadata": {},
     "output_type": "execute_result"
    }
   ],
   "source": [
    "# no qubits are in the density matrix\n",
    "state.idx_in_full_dm"
   ]
  },
  {
   "cell_type": "code",
   "execution_count": 22,
   "metadata": {},
   "outputs": [
    {
     "data": {
      "text/plain": [
       "array([[1.]])"
      ]
     },
     "execution_count": 22,
     "metadata": {},
     "output_type": "execute_result"
    }
   ],
   "source": [
    "# the density matrix is just the 1 x 1 unit matrix\n",
    "state.full_dm.to_array()"
   ]
  },
  {
   "cell_type": "code",
   "execution_count": 23,
   "metadata": {},
   "outputs": [],
   "source": [
    "# applying a ptm to a classical bit should add it to the density matrix\n",
    "state.apply_ptm(\"QL\", X90)"
   ]
  },
  {
   "cell_type": "code",
   "execution_count": 24,
   "metadata": {},
   "outputs": [
    {
     "data": {
      "text/plain": [
       "{'QL': 0, 'QR': 0}"
      ]
     },
     "execution_count": 24,
     "metadata": {},
     "output_type": "execute_result"
    }
   ],
   "source": [
    "# but it's still classical and 0!?\n",
    "state.classical"
   ]
  },
  {
   "cell_type": "code",
   "execution_count": 25,
   "metadata": {},
   "outputs": [
    {
     "data": {
      "text/plain": [
       "{}"
      ]
     },
     "execution_count": 25,
     "metadata": {},
     "output_type": "execute_result"
    }
   ],
   "source": [
    "state.idx_in_full_dm"
   ]
  },
  {
   "cell_type": "code",
   "execution_count": 26,
   "metadata": {},
   "outputs": [],
   "source": [
    "# the PTM has not applied yet! it is held back for PTM compilation\n",
    "\n",
    "# We enforce the computation:\n",
    "state.apply_all_pending()"
   ]
  },
  {
   "cell_type": "code",
   "execution_count": 27,
   "metadata": {},
   "outputs": [
    {
     "data": {
      "text/plain": [
       "{'QR': 0}"
      ]
     },
     "execution_count": 27,
     "metadata": {},
     "output_type": "execute_result"
    }
   ],
   "source": [
    "# now the computation has been performed\n",
    "state.classical"
   ]
  },
  {
   "cell_type": "code",
   "execution_count": 28,
   "metadata": {},
   "outputs": [
    {
     "data": {
      "text/plain": [
       "{'QL': 0}"
      ]
     },
     "execution_count": 28,
     "metadata": {},
     "output_type": "execute_result"
    }
   ],
   "source": [
    "state.idx_in_full_dm"
   ]
  },
  {
   "cell_type": "code",
   "execution_count": 29,
   "metadata": {},
   "outputs": [
    {
     "name": "stdout",
     "output_type": "stream",
     "text": [
      "[[0.5+0.j  0. +0.5j]\n",
      " [0. -0.5j 0.5+0.j ]]\n"
     ]
    }
   ],
   "source": [
    "# this is the density matrix of QL only, QR is still classical\n",
    "print(state.full_dm.to_array().round(3))"
   ]
  },
  {
   "cell_type": "markdown",
   "metadata": {},
   "source": [
    "### Example: Make a Bell state"
   ]
  },
  {
   "cell_type": "markdown",
   "metadata": {},
   "source": [
    "Adriaan now also has a perfect C-Phase gate. He wants to make the Bell state $|01\\rangle + |10\\rangle$ by \n",
    "  - start from the ground state\n",
    "  - X90 on both qubits\n",
    "  - C-Phase\n",
    "  - X90 on QL\n",
    "  \n",
    "Let's see whether in the absence of decay, this works out."
   ]
  },
  {
   "cell_type": "code",
   "execution_count": 30,
   "metadata": {},
   "outputs": [],
   "source": [
    "# We need the PTM for cphase gate. First make the unitary:\n",
    "\n",
    "cphase_unitary = np.diag([1, 1, 1, -1])"
   ]
  },
  {
   "cell_type": "code",
   "execution_count": 31,
   "metadata": {},
   "outputs": [
    {
     "name": "stdout",
     "output_type": "stream",
     "text": [
      "[[ 1  0  0  0]\n",
      " [ 0  1  0  0]\n",
      " [ 0  0  1  0]\n",
      " [ 0  0  0 -1]]\n"
     ]
    }
   ],
   "source": [
    "print(cphase_unitary)"
   ]
  },
  {
   "cell_type": "code",
   "execution_count": 32,
   "metadata": {},
   "outputs": [],
   "source": [
    "# then convert it to a 16x16 two-qubit PTM\n",
    "cphase_ptm = ptm.double_kraus_to_ptm(cphase_unitary)"
   ]
  },
  {
   "cell_type": "code",
   "execution_count": 33,
   "metadata": {},
   "outputs": [
    {
     "name": "stdout",
     "output_type": "stream",
     "text": [
      "[[ 1.00000000e+00  0.00000000e+00  0.00000000e+00  0.00000000e+00\n",
      "   0.00000000e+00  0.00000000e+00  0.00000000e+00  0.00000000e+00\n",
      "   0.00000000e+00  0.00000000e+00  0.00000000e+00  0.00000000e+00\n",
      "   0.00000000e+00  0.00000000e+00  0.00000000e+00  0.00000000e+00]\n",
      " [ 0.00000000e+00  1.00000000e+00  0.00000000e+00  0.00000000e+00\n",
      "   0.00000000e+00  0.00000000e+00  0.00000000e+00  0.00000000e+00\n",
      "   0.00000000e+00  0.00000000e+00  0.00000000e+00  0.00000000e+00\n",
      "   0.00000000e+00  0.00000000e+00  0.00000000e+00  0.00000000e+00]\n",
      " [ 0.00000000e+00  0.00000000e+00  1.00000000e+00  0.00000000e+00\n",
      "   0.00000000e+00  0.00000000e+00  0.00000000e+00  0.00000000e+00\n",
      "   0.00000000e+00  0.00000000e+00  0.00000000e+00  0.00000000e+00\n",
      "   0.00000000e+00  0.00000000e+00  0.00000000e+00  0.00000000e+00]\n",
      " [ 0.00000000e+00  0.00000000e+00  0.00000000e+00  1.00000000e+00\n",
      "   0.00000000e+00  0.00000000e+00  0.00000000e+00  0.00000000e+00\n",
      "   0.00000000e+00  0.00000000e+00  0.00000000e+00  0.00000000e+00\n",
      "   0.00000000e+00  0.00000000e+00  0.00000000e+00  0.00000000e+00]\n",
      " [ 0.00000000e+00  0.00000000e+00  0.00000000e+00  0.00000000e+00\n",
      "   1.00000000e+00  0.00000000e+00  0.00000000e+00  0.00000000e+00\n",
      "   0.00000000e+00  0.00000000e+00  0.00000000e+00  0.00000000e+00\n",
      "   0.00000000e+00  0.00000000e+00  0.00000000e+00  0.00000000e+00]\n",
      " [ 0.00000000e+00  0.00000000e+00  0.00000000e+00  0.00000000e+00\n",
      "   0.00000000e+00 -1.23259516e-32  0.00000000e+00  0.00000000e+00\n",
      "   0.00000000e+00  0.00000000e+00  1.00000000e+00  0.00000000e+00\n",
      "   0.00000000e+00  0.00000000e+00  0.00000000e+00  0.00000000e+00]\n",
      " [ 0.00000000e+00  0.00000000e+00  0.00000000e+00  0.00000000e+00\n",
      "   0.00000000e+00  0.00000000e+00 -1.23259516e-32  0.00000000e+00\n",
      "   0.00000000e+00 -1.00000000e+00  0.00000000e+00  0.00000000e+00\n",
      "   0.00000000e+00  0.00000000e+00  0.00000000e+00  0.00000000e+00]\n",
      " [ 0.00000000e+00  0.00000000e+00  0.00000000e+00  0.00000000e+00\n",
      "   0.00000000e+00  0.00000000e+00  0.00000000e+00 -1.00000000e+00\n",
      "   0.00000000e+00  0.00000000e+00  0.00000000e+00  0.00000000e+00\n",
      "   0.00000000e+00  0.00000000e+00  0.00000000e+00  0.00000000e+00]\n",
      " [ 0.00000000e+00  0.00000000e+00  0.00000000e+00  0.00000000e+00\n",
      "   0.00000000e+00  0.00000000e+00  0.00000000e+00  0.00000000e+00\n",
      "   1.00000000e+00  0.00000000e+00  0.00000000e+00  0.00000000e+00\n",
      "   0.00000000e+00  0.00000000e+00  0.00000000e+00  0.00000000e+00]\n",
      " [ 0.00000000e+00  0.00000000e+00  0.00000000e+00  0.00000000e+00\n",
      "   0.00000000e+00  0.00000000e+00 -1.00000000e+00  0.00000000e+00\n",
      "   0.00000000e+00 -1.23259516e-32  0.00000000e+00  0.00000000e+00\n",
      "   0.00000000e+00  0.00000000e+00  0.00000000e+00  0.00000000e+00]\n",
      " [ 0.00000000e+00  0.00000000e+00  0.00000000e+00  0.00000000e+00\n",
      "   0.00000000e+00  1.00000000e+00  0.00000000e+00  0.00000000e+00\n",
      "   0.00000000e+00  0.00000000e+00 -1.23259516e-32  0.00000000e+00\n",
      "   0.00000000e+00  0.00000000e+00  0.00000000e+00  0.00000000e+00]\n",
      " [ 0.00000000e+00  0.00000000e+00  0.00000000e+00  0.00000000e+00\n",
      "   0.00000000e+00  0.00000000e+00  0.00000000e+00  0.00000000e+00\n",
      "   0.00000000e+00  0.00000000e+00  0.00000000e+00 -1.00000000e+00\n",
      "   0.00000000e+00  0.00000000e+00  0.00000000e+00  0.00000000e+00]\n",
      " [ 0.00000000e+00  0.00000000e+00  0.00000000e+00  0.00000000e+00\n",
      "   0.00000000e+00  0.00000000e+00  0.00000000e+00  0.00000000e+00\n",
      "   0.00000000e+00  0.00000000e+00  0.00000000e+00  0.00000000e+00\n",
      "   1.00000000e+00  0.00000000e+00  0.00000000e+00  0.00000000e+00]\n",
      " [ 0.00000000e+00  0.00000000e+00  0.00000000e+00  0.00000000e+00\n",
      "   0.00000000e+00  0.00000000e+00  0.00000000e+00  0.00000000e+00\n",
      "   0.00000000e+00  0.00000000e+00  0.00000000e+00  0.00000000e+00\n",
      "   0.00000000e+00 -1.00000000e+00  0.00000000e+00  0.00000000e+00]\n",
      " [ 0.00000000e+00  0.00000000e+00  0.00000000e+00  0.00000000e+00\n",
      "   0.00000000e+00  0.00000000e+00  0.00000000e+00  0.00000000e+00\n",
      "   0.00000000e+00  0.00000000e+00  0.00000000e+00  0.00000000e+00\n",
      "   0.00000000e+00  0.00000000e+00 -1.00000000e+00  0.00000000e+00]\n",
      " [ 0.00000000e+00  0.00000000e+00  0.00000000e+00  0.00000000e+00\n",
      "   0.00000000e+00  0.00000000e+00  0.00000000e+00  0.00000000e+00\n",
      "   0.00000000e+00  0.00000000e+00  0.00000000e+00  0.00000000e+00\n",
      "   0.00000000e+00  0.00000000e+00  0.00000000e+00  1.00000000e+00]]\n"
     ]
    }
   ],
   "source": [
    "print(cphase_ptm)"
   ]
  },
  {
   "cell_type": "code",
   "execution_count": 34,
   "metadata": {},
   "outputs": [],
   "source": [
    "# Now we can make a bell state\n",
    "def make_bell_state():\n",
    "    # Make system in the ground state\n",
    "    bell_state = sparsedm.SparseDM([\"QL\", \"QR\"])\n",
    "    \n",
    "    # Apply the processes\n",
    "    bell_state.apply_ptm(\"QL\", X90)\n",
    "    bell_state.apply_ptm(\"QR\", X90)\n",
    "    bell_state.apply_two_ptm(\"QL\", \"QR\", cphase_ptm)\n",
    "    bell_state.apply_ptm(\"QL\", X90)\n",
    "\n",
    "    # Enforce calculation\n",
    "    bell_state.apply_all_pending()\n",
    "    \n",
    "    return bell_state"
   ]
  },
  {
   "cell_type": "code",
   "execution_count": 35,
   "metadata": {},
   "outputs": [],
   "source": [
    "bell = make_bell_state()"
   ]
  },
  {
   "cell_type": "markdown",
   "metadata": {},
   "source": [
    "Let's visualize the result using qutip:"
   ]
  },
  {
   "cell_type": "code",
   "execution_count": 36,
   "metadata": {},
   "outputs": [
    {
     "data": {
      "text/plain": [
       "(<Figure size 432x288 with 2 Axes>,\n",
       " <mpl_toolkits.mplot3d.axes3d.Axes3D at 0x7fb4deb97668>)"
      ]
     },
     "execution_count": 36,
     "metadata": {},
     "output_type": "execute_result"
    },
    {
     "data": {
      "image/png": "[encoded data removed]",
      "text/plain": [
       "<Figure size 432x288 with 2 Axes>"
      ]
     },
     "metadata": {},
     "output_type": "display_data"
    }
   ],
   "source": [
    "import qutip\n",
    "rho = bell.full_dm.to_array()\n",
    "qutip.matrix_histogram_complex(rho)"
   ]
  },
  {
   "cell_type": "markdown",
   "metadata": {},
   "source": [
    "And the measurement outcomes are indeed \"01\" and \"10\" with 1/2 probability:"
   ]
  },
  {
   "cell_type": "code",
   "execution_count": 37,
   "metadata": {},
   "outputs": [
    {
     "data": {
      "text/plain": [
       "[({'QL': 0, 'QR': 0}, 5.551115123125784e-17),\n",
       " ({'QL': 1, 'QR': 0}, 0.5000000000000003),\n",
       " ({'QL': 0, 'QR': 1}, 0.5000000000000003),\n",
       " ({'QL': 1, 'QR': 1}, 5.551115123125784e-17)]"
      ]
     },
     "execution_count": 37,
     "metadata": {},
     "output_type": "execute_result"
    }
   ],
   "source": [
    "bell.peak_multiple_measurements([\"QL\", \"QR\"])"
   ]
  },
  {
   "cell_type": "markdown",
   "metadata": {},
   "source": [
    "## Measurements\n",
    "\n",
    "The effect of a measurements is just projection to a definite state:\n",
    "  - that qubit becomes classical and is removed from the density matrix\n",
    "  - the density matrix has no longer trace 1. It's trace is the probability for the projected measurement outcome."
   ]
  },
  {
   "cell_type": "code",
   "execution_count": 38,
   "metadata": {},
   "outputs": [],
   "source": [
    "# make another perfect bell state\n",
    "bell = make_bell_state()\n",
    "\n",
    "# Let's say QL is measured and outcome is 1\n",
    "bell.project_measurement(\"QL\", 1)"
   ]
  },
  {
   "cell_type": "code",
   "execution_count": 39,
   "metadata": {},
   "outputs": [
    {
     "data": {
      "text/plain": [
       "{'QL': 1}"
      ]
     },
     "execution_count": 39,
     "metadata": {},
     "output_type": "execute_result"
    }
   ],
   "source": [
    "# now QL is classical\n",
    "bell.classical"
   ]
  },
  {
   "cell_type": "code",
   "execution_count": 40,
   "metadata": {},
   "outputs": [
    {
     "data": {
      "text/plain": [
       "{'QR': 0}"
      ]
     },
     "execution_count": 40,
     "metadata": {},
     "output_type": "execute_result"
    }
   ],
   "source": [
    "# QR is still in the density matrix\n",
    "bell.idx_in_full_dm"
   ]
  },
  {
   "cell_type": "code",
   "execution_count": 41,
   "metadata": {},
   "outputs": [
    {
     "data": {
      "text/plain": [
       "array([[5.00000000e-01+0.00000000e+00j, 0.00000000e+00-8.12941988e-18j],\n",
       "       [0.00000000e+00+8.12941988e-18j, 5.55111512e-17+0.00000000e+00j]])"
      ]
     },
     "execution_count": 41,
     "metadata": {},
     "output_type": "execute_result"
    }
   ],
   "source": [
    "# the density matrix now has trace 0.5,\n",
    "# which is the probability that QL is indeed measured as 1\n",
    "bell.full_dm.to_array()"
   ]
  },
  {
   "cell_type": "code",
   "execution_count": 42,
   "metadata": {},
   "outputs": [
    {
     "data": {
      "text/plain": [
       "0.5000000000000004"
      ]
     },
     "execution_count": 42,
     "metadata": {},
     "output_type": "execute_result"
    }
   ],
   "source": [
    "# We can also get the trace like this\n",
    "bell.trace()"
   ]
  },
  {
   "cell_type": "code",
   "execution_count": 43,
   "metadata": {},
   "outputs": [],
   "source": [
    "# We can renormalize to get the conditional density matrix\n",
    "bell.renormalize()"
   ]
  },
  {
   "cell_type": "code",
   "execution_count": 44,
   "metadata": {},
   "outputs": [
    {
     "data": {
      "text/plain": [
       "array([[1.00000000e+00+0.00000000e+00j, 0.00000000e+00-1.62588398e-17j],\n",
       "       [0.00000000e+00+1.62588398e-17j, 1.11022302e-16+0.00000000e+00j]])"
      ]
     },
     "execution_count": 44,
     "metadata": {},
     "output_type": "execute_result"
    }
   ],
   "source": [
    "bell.full_dm.to_array()"
   ]
  },
  {
   "cell_type": "code",
   "execution_count": 45,
   "metadata": {},
   "outputs": [
    {
     "data": {
      "text/plain": [
       "[({'QL': 1, 'QR': 0}, 0.9999999999999998),\n",
       " ({'QL': 1, 'QR': 1}, 1.1102230246251558e-16)]"
      ]
     },
     "execution_count": 45,
     "metadata": {},
     "output_type": "execute_result"
    }
   ],
   "source": [
    "# Indeed, since the qubits were entangled, QL is now 1 and QR is now 0\n",
    "bell.peak_multiple_measurements([\"QL\", \"QR\"])"
   ]
  },
  {
   "cell_type": "markdown",
   "metadata": {},
   "source": [
    "## Everything easier: Circuit\n",
    "\n",
    "  - Writing larger circuits in the manner above becomes tedious\n",
    "  - Especially when decay processes have to be inserted\n",
    "  \n",
    "The `Circuit` class helps. Now you specify:\n",
    "  - the qubits with decay parameters (T1, T2*)\n",
    "  - the gates and their times\n",
    "  - a sampler that determines how measurement outcomes are selected:\n",
    "    - fixed outcome, as above\n",
    "    - randomly selected according to Born's rule\n",
    "\n",
    "Then the decay PTMs are inserted automatically, the circuit can be plotted, and finally applied to a `SparseDM`.\n",
    "\n",
    "Note: The basic assumption here is that realistic gates can be approximated by \"sandwiching\" perfect gates with idling processes."
   ]
  },
  {
   "cell_type": "markdown",
   "metadata": {},
   "source": [
    "### Example: Bell state preparation again with circuits\n"
   ]
  },
  {
   "cell_type": "code",
   "execution_count": 46,
   "metadata": {},
   "outputs": [],
   "source": [
    "# Make a circuit, give it a name\n",
    "\n",
    "c = circuit.Circuit(\"Bell state preparation\");"
   ]
  },
  {
   "cell_type": "code",
   "execution_count": 47,
   "metadata": {},
   "outputs": [],
   "source": [
    "# Specify the qubits. Time unit is arbitrary, I usually use nanoseconds.\n",
    "\n",
    "ql = circuit.Qubit(\"QL\", t1=7000, t2=4000) # quite bad qubits\n",
    "qr = circuit.Qubit(\"QR\", t1=3000, t2=5000)\n",
    "\n",
    "c.add_qubit(ql)\n",
    "c.add_qubit(qr);"
   ]
  },
  {
   "cell_type": "code",
   "execution_count": 48,
   "metadata": {},
   "outputs": [],
   "source": [
    "# Specify the gates\n",
    "# Let's say: \n",
    "# single qubit gate takes 20 ns\n",
    "# two-qubit gate takes 100 ns\n",
    "\n",
    "# circuit module contains quite a selection of gates:\n",
    "\n",
    "g = circuit.RotateX(\"QL\", time=10, angle=np.pi/2)\n",
    "c.add_gate(g)\n",
    "\n",
    "g = circuit.RotateX(\"QR\", time=10, angle=np.pi/2)\n",
    "c.add_gate(g)\n",
    "\n",
    "g = circuit.CPhase(\"QL\", \"QR\", time=70)\n",
    "c.add_gate(g)\n",
    "\n",
    "g = circuit.RotateX(\"QL\", time=130, angle=np.pi/2)\n",
    "c.add_gate(g);"
   ]
  },
  {
   "cell_type": "code",
   "execution_count": 49,
   "metadata": {},
   "outputs": [
    {
     "data": {
      "image/png": "[encoded data removed]",
      "text/plain": [
       "<Figure size 432x288 with 1 Axes>"
      ]
     },
     "metadata": {},
     "output_type": "display_data"
    }
   ],
   "source": [
    "c.plot();"
   ]
  },
  {
   "cell_type": "code",
   "execution_count": 50,
   "metadata": {},
   "outputs": [
    {
     "data": {
      "image/png": "[encoded data removed]",
      "text/plain": [
       "<Figure size 432x288 with 1 Axes>"
      ]
     },
     "metadata": {},
     "output_type": "display_data"
    }
   ],
   "source": [
    "# add the decay processes\n",
    "c.add_waiting_gates(tmin=0, tmax=140)\n",
    "c.plot();"
   ]
  },
  {
   "cell_type": "code",
   "execution_count": 51,
   "metadata": {},
   "outputs": [],
   "source": [
    "# finalize the circuit by bringing the gate list to temporal order\n",
    "# very important!!!\n",
    "\n",
    "c.order()\n"
   ]
  },
  {
   "cell_type": "code",
   "execution_count": 52,
   "metadata": {},
   "outputs": [],
   "source": [
    "# and now make a SparseDM and apply the circuit to it\n",
    "\n",
    "bell2 = sparsedm.SparseDM(c.get_qubit_names())"
   ]
  },
  {
   "cell_type": "code",
   "execution_count": 53,
   "metadata": {},
   "outputs": [],
   "source": [
    "c.apply_to(bell2, apply_all_pending=True)"
   ]
  },
  {
   "cell_type": "markdown",
   "metadata": {},
   "source": [
    "Let's see what we get"
   ]
  },
  {
   "cell_type": "code",
   "execution_count": 54,
   "metadata": {},
   "outputs": [
    {
     "data": {
      "text/plain": [
       "[({'QL': 0, 'QR': 0}, 0.01938854834282908),\n",
       " ({'QL': 1, 'QR': 0}, 0.5018153819163079),\n",
       " ({'QL': 0, 'QR': 1}, 0.47173088887905334),\n",
       " ({'QL': 1, 'QR': 1}, 0.007065180861812055)]"
      ]
     },
     "execution_count": 54,
     "metadata": {},
     "output_type": "execute_result"
    }
   ],
   "source": [
    "bell2.peak_multiple_measurements(c.get_qubit_names())"
   ]
  },
  {
   "cell_type": "code",
   "execution_count": 55,
   "metadata": {},
   "outputs": [
    {
     "data": {
      "image/png": "[encoded data removed]",
      "text/plain": [
       "<Figure size 432x288 with 2 Axes>"
      ]
     },
     "metadata": {},
     "output_type": "display_data"
    }
   ],
   "source": [
    "rho2 = bell2.full_dm.to_array()\n",
    "qutip.matrix_histogram_complex(rho2);"
   ]
  },
  {
   "cell_type": "code",
   "execution_count": 56,
   "metadata": {},
   "outputs": [
    {
     "data": {
      "text/plain": [
       "0.9815738487543749"
      ]
     },
     "execution_count": 56,
     "metadata": {},
     "output_type": "execute_result"
    }
   ],
   "source": [
    "qutip.fidelity(qutip.Qobj(rho), qutip.Qobj(rho2))"
   ]
  },
  {
   "cell_type": "markdown",
   "metadata": {},
   "source": [
    "## Example: Repeated indirect measurements\n",
    "\n",
    "Niels performs repeated indirect measurements of QL using QR as an ancilla.\n",
    "\n",
    "Starting from the ground state, repeat:\n",
    "  - CNOT from QL on QR\n",
    "  - measure QR\n",
    "  - flip QL\n",
    "  \n",
    "If everything works perfectly, we expect 0, 1, 1, 0, 0, 1, 1... measurement outcomes, since\n",
    "\n",
    "  - QL is 0, 1, 0, 1, 0 ...\n",
    "  - QR is flipped if QL is 1: every second round."
   ]
  },
  {
   "cell_type": "code",
   "execution_count": 57,
   "metadata": {},
   "outputs": [],
   "source": [
    "# make circuit\n",
    "c = circuit.Circuit(\"Indirect measurement round\")\n",
    "\n",
    "# add the qubits\n",
    "ql = circuit.Qubit(\"QL\", t1=10000, t2=10000)\n",
    "qr = circuit.Qubit(\"QR\", t1=10000, t2=10000)\n",
    "\n",
    "c.add_qubit(ql)\n",
    "c.add_qubit(qr);\n",
    "\n",
    "# CNOT using CPHASE and two Y rotations:\n",
    "g = circuit.RotateY(\"QR\", time=10, angle=np.pi/2)\n",
    "c.add_gate(g)\n",
    "\n",
    "g = circuit.CPhase(\"QL\", \"QR\", time=70)\n",
    "c.add_gate(g)\n",
    "\n",
    "g = circuit.RotateY(\"QR\", time=130, angle=-np.pi/2)\n",
    "c.add_gate(g)\n",
    "\n",
    "# flip QL\n",
    "\n",
    "g = circuit.RotateX(\"QL\", time=130, angle=np.pi)\n",
    "c.add_gate(g);\n",
    "\n",
    "# measurement:\n",
    "\n",
    "# 1. we need another bit to hold the measurement outcome\n",
    "# \"classical bits\" are just qubits that have no decay channel\n",
    "mqr = circuit.ClassicalBit(\"mQR\")\n",
    "c.add_qubit(mqr)\n",
    "\n",
    "# 2. we need a \"sampler\" that determines how outcomes are chosen\n",
    "# This sampler selects randomly using Born's rule\n",
    "# The measurement outcome is reported wrong with 1.5% probability\n",
    "sampler = circuit.BiasedSampler(readout_error=0.015, seed=42, alpha=1)\n",
    "\n",
    "# 3. insert the measurement operation\n",
    "# Let's say the measurement takes 1000 ns\n",
    "g = circuit.Measurement(\"QR\", output_bit=\"mQR\", \n",
    "                        time=140+500, sampler=sampler)\n",
    "c.add_gate(g)\n",
    "\n",
    "# finalize\n",
    "c.add_waiting_gates(0, 1140)\n",
    "c.order()"
   ]
  },
  {
   "cell_type": "code",
   "execution_count": 58,
   "metadata": {},
   "outputs": [
    {
     "data": {
      "image/png": "[encoded data removed]",
      "text/plain": [
       "<Figure size 1080x288 with 1 Axes>"
      ]
     },
     "metadata": {},
     "output_type": "display_data"
    }
   ],
   "source": [
    "fig, ax = c.plot();\n",
    "fig.set_figwidth(15)"
   ]
  },
  {
   "cell_type": "markdown",
   "metadata": {},
   "source": [
    "Now make a `SparseDM` and run 80 rounds, saving `mQR` after every round."
   ]
  },
  {
   "cell_type": "code",
   "execution_count": 59,
   "metadata": {},
   "outputs": [],
   "source": [
    "state = sparsedm.SparseDM(c.get_qubit_names())\n",
    "\n",
    "results = []\n",
    "\n",
    "for i in range(80):\n",
    "    c.apply_to(state)\n",
    "    results.append(state.classical[\"mQR\"])    "
   ]
  },
  {
   "cell_type": "markdown",
   "metadata": {},
   "source": [
    "We mostly get the expected pattern:"
   ]
  },
  {
   "cell_type": "code",
   "execution_count": 60,
   "metadata": {},
   "outputs": [
    {
     "name": "stdout",
     "output_type": "stream",
     "text": [
      "[0, 1, 1, 0, 0, 0, 1, 1, 0, 0, 1, 1, 0, 0, 1, 1, 0, 0, 1, 1, 0, 0, 1, 1, 0, 0, 1, 1, 0, 0, 1, 1, 0, 0, 0, 1, 0, 1, 1, 0, 0, 1, 1, 0, 0, 0, 1, 1, 0, 0, 0, 0, 1, 1, 0, 0, 1, 1, 0, 0, 1, 1, 0, 0, 0, 0, 0, 1, 1, 0, 0, 1, 1, 0, 0, 1, 1, 1, 1, 0]\n"
     ]
    }
   ],
   "source": [
    "print(results)"
   ]
  },
  {
   "cell_type": "markdown",
   "metadata": {},
   "source": [
    "We can analyze the data by looking at \"events\", where $mQL(t) \\not= mQL(t-2)$"
   ]
  },
  {
   "cell_type": "code",
   "execution_count": 61,
   "metadata": {},
   "outputs": [],
   "source": [
    "events = [0, 0] + [1 - x ^ y for x, y in zip(results, results[2:])]"
   ]
  },
  {
   "cell_type": "code",
   "execution_count": 62,
   "metadata": {},
   "outputs": [
    {
     "data": {
      "image/png": "[encoded data removed]",
      "text/plain": [
       "<Figure size 432x288 with 2 Axes>"
      ]
     },
     "metadata": {},
     "output_type": "display_data"
    }
   ],
   "source": [
    "fig, (ax1, ax2) = plt.subplots(2, 1, sharex=True)\n",
    "\n",
    "ax1.plot(results, \".-\")\n",
    "ax1.set_ylabel(\"mQR\")\n",
    "\n",
    "ax2.plot(events, \".-\")\n",
    "ax2.set_ylabel(\"Events\");\n"
   ]
  },
  {
   "cell_type": "code",
   "execution_count": 63,
   "metadata": {},
   "outputs": [
    {
     "data": {
      "text/plain": [
       "4.653643763066163e-13"
      ]
     },
     "execution_count": 63,
     "metadata": {},
     "output_type": "execute_result"
    }
   ],
   "source": [
    "# The probability to obtain exactly this pattern is quite low, of course\n",
    "state.trace()"
   ]
  }
 ],
 "metadata": {
  "kernelspec": {
   "display_name": "Python [default]",
   "language": "python",
   "name": "python3"
  },
  "language_info": {
   "codemirror_mode": {
    "name": "ipython",
    "version": 3
   },
   "file_extension": ".py",
   "mimetype": "text/x-python",
   "name": "python",
   "nbconvert_exporter": "python",
   "pygments_lexer": "ipython3",
   "version": "3.6.5"
  }
 },
 "nbformat": 4,
 "nbformat_minor": 2
}
